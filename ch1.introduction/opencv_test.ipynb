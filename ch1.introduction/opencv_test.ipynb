{
 "cells": [
  {
   "cell_type": "code",
   "execution_count": null,
   "metadata": {},
   "outputs": [],
   "source": [
    "import cv2 as cv\n",
    "#读取图像，支持 bmp、jpg、png、tiff 等常用格式\n",
    "img = cv.imread(\"c:\\course\\ch1\\lena.jpg\")\n",
    "#创建窗口并显示图像\n",
    "cv.namedWindow(\"Image\")\n",
    "cv.imshow(\"Image\",img)\n",
    "cv.waitKey(0)\n",
    "#释放窗口\n",
    "cv.destroyAllWindows()\n"
   ]
  },
  {
   "cell_type": "code",
   "execution_count": null,
   "metadata": {},
   "outputs": [],
   "source": []
  }
 ],
 "metadata": {
  "kernelspec": {
   "display_name": "Python 3",
   "language": "python",
   "name": "python3"
  },
  "language_info": {
   "codemirror_mode": {
    "name": "ipython",
    "version": 3
   },
   "file_extension": ".py",
   "mimetype": "text/x-python",
   "name": "python",
   "nbconvert_exporter": "python",
   "pygments_lexer": "ipython3",
   "version": "3.6.5"
  }
 },
 "nbformat": 4,
 "nbformat_minor": 2
}
