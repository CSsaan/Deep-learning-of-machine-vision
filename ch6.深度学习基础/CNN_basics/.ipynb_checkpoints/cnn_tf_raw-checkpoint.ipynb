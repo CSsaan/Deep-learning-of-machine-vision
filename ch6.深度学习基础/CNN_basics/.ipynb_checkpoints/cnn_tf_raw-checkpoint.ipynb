{
 "cells": [
  {
   "cell_type": "markdown",
   "metadata": {
    "collapsed": true
   },
   "source": [
    "# TensorFlow卷积神经网络(CNN)示例 - 原生API\n",
    "### Convolutional Neural Network Example - Raw API\n",
    "\n"
   ]
  },
  {
   "cell_type": "markdown",
   "metadata": {},
   "source": [
    "## CNN网络结构图示\n",
    "\n",
    "![CNN](http://personal.ie.cuhk.edu.hk/~ccloy/project_target_code/images/fig3.png)\n",
    "\n",
    "## MNIST数据集\n",
    "\n",
    "\n",
    "![MNIST Dataset](http://neuralnetworksanddeeplearning.com/images/mnist_100_digits.png)\n",
    "\n",
    "More info: http://yann.lecun.com/exdb/mnist/"
   ]
  },
  {
   "cell_type": "code",
   "execution_count": 1,
   "metadata": {},
   "outputs": [
    {
     "name": "stderr",
     "output_type": "stream",
     "text": [
      "/anaconda3/lib/python3.6/site-packages/h5py/__init__.py:36: FutureWarning: Conversion of the second argument of issubdtype from `float` to `np.floating` is deprecated. In future, it will be treated as `np.float64 == np.dtype(float).type`.\n",
      "  from ._conv import register_converters as _register_converters\n"
     ]
    },
    {
     "name": "stdout",
     "output_type": "stream",
     "text": [
      "WARNING:tensorflow:From <ipython-input-1-635c2e9b8efc>:7: read_data_sets (from tensorflow.contrib.learn.python.learn.datasets.mnist) is deprecated and will be removed in a future version.\n",
      "Instructions for updating:\n",
      "Please use alternatives such as official/mnist/dataset.py from tensorflow/models.\n",
      "WARNING:tensorflow:From /anaconda3/lib/python3.6/site-packages/tensorflow/contrib/learn/python/learn/datasets/mnist.py:260: maybe_download (from tensorflow.contrib.learn.python.learn.datasets.base) is deprecated and will be removed in a future version.\n",
      "Instructions for updating:\n",
      "Please write your own downloading logic.\n",
      "WARNING:tensorflow:From /anaconda3/lib/python3.6/site-packages/tensorflow/contrib/learn/python/learn/datasets/mnist.py:262: extract_images (from tensorflow.contrib.learn.python.learn.datasets.mnist) is deprecated and will be removed in a future version.\n",
      "Instructions for updating:\n",
      "Please use tf.data to implement this functionality.\n",
      "Extracting ../mnist/train-images-idx3-ubyte.gz\n",
      "WARNING:tensorflow:From /anaconda3/lib/python3.6/site-packages/tensorflow/contrib/learn/python/learn/datasets/mnist.py:267: extract_labels (from tensorflow.contrib.learn.python.learn.datasets.mnist) is deprecated and will be removed in a future version.\n",
      "Instructions for updating:\n",
      "Please use tf.data to implement this functionality.\n",
      "Extracting ../mnist/train-labels-idx1-ubyte.gz\n",
      "WARNING:tensorflow:From /anaconda3/lib/python3.6/site-packages/tensorflow/contrib/learn/python/learn/datasets/mnist.py:110: dense_to_one_hot (from tensorflow.contrib.learn.python.learn.datasets.mnist) is deprecated and will be removed in a future version.\n",
      "Instructions for updating:\n",
      "Please use tf.one_hot on tensors.\n",
      "Extracting ../mnist/t10k-images-idx3-ubyte.gz\n",
      "Extracting ../mnist/t10k-labels-idx1-ubyte.gz\n",
      "WARNING:tensorflow:From /anaconda3/lib/python3.6/site-packages/tensorflow/contrib/learn/python/learn/datasets/mnist.py:290: DataSet.__init__ (from tensorflow.contrib.learn.python.learn.datasets.mnist) is deprecated and will be removed in a future version.\n",
      "Instructions for updating:\n",
      "Please use alternatives such as official/mnist/dataset.py from tensorflow/models.\n"
     ]
    }
   ],
   "source": [
    "from __future__ import division, print_function, absolute_import\n",
    "\n",
    "import tensorflow as tf\n",
    "\n",
    "# Import MNIST data，MNIST数据集导入\n",
    "from tensorflow.examples.tutorials.mnist import input_data\n",
    "mnist = input_data.read_data_sets(\"../mnist/\", one_hot=True)"
   ]
  },
  {
   "cell_type": "code",
   "execution_count": 2,
   "metadata": {},
   "outputs": [],
   "source": [
    "# Hyper-parameters，超参数\n",
    "learning_rate = 0.001\n",
    "num_steps = 1000\n",
    "batch_size = 128\n",
    "display_step = 10\n",
    "\n",
    "# Network Parameters，网络参数\n",
    "num_input = 784 # MNIST数据输入 (img shape: 28*28)\n",
    "num_classes = 10 # MNIST所有类别 (0-9 digits)\n",
    "dropout = 0.75 # Dropout, probability to keep units = (1-p)，保留神经元相应的概率为(1-p)=(1-0.75)=0.25\n",
    "\n",
    "# tf Graph input，TensorFlow图结构输入\n",
    "X = tf.placeholder(tf.float32, [None, num_input])\n",
    "Y = tf.placeholder(tf.float32, [None, num_classes])\n",
    "keep_prob = tf.placeholder(tf.float32) # dropout (keep probability)，保留i"
   ]
  },
  {
   "cell_type": "code",
   "execution_count": 3,
   "metadata": {},
   "outputs": [],
   "source": [
    "# Create some wrappers for simplicity，创建基础卷积函数，简化写法\n",
    "def conv2d(x, W, b, strides=1):\n",
    "    # Conv2D wrapper, with bias and relu activation，卷积层，包含bias与非线性relu激励\n",
    "    x = tf.nn.conv2d(x, W, strides=[1, strides, strides, 1], padding='SAME')\n",
    "    x = tf.nn.bias_add(x, b)\n",
    "    return tf.nn.relu(x)\n",
    "\n",
    "\n",
    "def maxpool2d(x, k=2):\n",
    "    # MaxPool2D wrapper，最大池化层\n",
    "    return tf.nn.max_pool(x, ksize=[1, k, k, 1], strides=[1, k, k, 1],\n",
    "                          padding='SAME')\n",
    "\n",
    "\n",
    "# Create model，创建模型\n",
    "def conv_net(x, weights, biases, dropout):\n",
    "    # MNIST数据为维度为1，长度为784 (28*28 像素)的\n",
    "    # Reshape to match picture format [Height x Width x Channel]\n",
    "    # Tensor input become 4-D: [Batch Size, Height, Width, Channel]\n",
    "    x = tf.reshape(x, shape=[-1, 28, 28, 1])\n",
    "\n",
    "    # Convolution Layer，卷积层\n",
    "    conv1 = conv2d(x, weights['wc1'], biases['bc1'])\n",
    "    # Max Pooling (down-sampling)，最大池化层／下采样\n",
    "    conv1 = maxpool2d(conv1, k=2)\n",
    "\n",
    "    # Convolution Layer，卷积层\n",
    "    conv2 = conv2d(conv1, weights['wc2'], biases['bc2'])\n",
    "    # Max Pooling (down-sampling)，最大池化层／下采样\n",
    "    conv2 = maxpool2d(conv2, k=2)\n",
    "\n",
    "    # Fully connected layer，全连接网络\n",
    "    # Reshape conv2 output to fit fully connected layer input，调整conv2层输出的结果以符合全连接层的需求\n",
    "    fc1 = tf.reshape(conv2, [-1, weights['wd1'].get_shape().as_list()[0]])\n",
    "    fc1 = tf.add(tf.matmul(fc1, weights['wd1']), biases['bd1'])\n",
    "    fc1 = tf.nn.relu(fc1)\n",
    "    # Apply Dropout，应用dropout\n",
    "    fc1 = tf.nn.dropout(fc1, dropout)\n",
    "\n",
    "    # Output, class prediction，最后输出预测\n",
    "    out = tf.add(tf.matmul(fc1, weights['out']), biases['out'])\n",
    "    return out"
   ]
  },
  {
   "cell_type": "code",
   "execution_count": 4,
   "metadata": {},
   "outputs": [
    {
     "name": "stdout",
     "output_type": "stream",
     "text": [
      "WARNING:tensorflow:From <ipython-input-4-c59ecf8fadf0>:26: softmax_cross_entropy_with_logits (from tensorflow.python.ops.nn_ops) is deprecated and will be removed in a future version.\n",
      "Instructions for updating:\n",
      "\n",
      "Future major versions of TensorFlow will allow gradients to flow\n",
      "into the labels input on backprop by default.\n",
      "\n",
      "See @{tf.nn.softmax_cross_entropy_with_logits_v2}.\n",
      "\n"
     ]
    }
   ],
   "source": [
    "# Store layers weight & bias 存储每一层的权值和全差\n",
    "weights = {\n",
    "    # 5x5 conv, 1 input, 32 outputs\n",
    "    'wc1': tf.Variable(tf.random_normal([5, 5, 1, 32])),\n",
    "    # 5x5 conv, 32 inputs, 64 outputs\n",
    "    'wc2': tf.Variable(tf.random_normal([5, 5, 32, 64])),\n",
    "    # fully connected, 7*7*64 inputs, 1024 outputs\n",
    "    'wd1': tf.Variable(tf.random_normal([7*7*64, 1024])),\n",
    "    # 1024 inputs, 10 outputs (class prediction)\n",
    "    'out': tf.Variable(tf.random_normal([1024, num_classes]))\n",
    "}\n",
    "\n",
    "biases = {\n",
    "    'bc1': tf.Variable(tf.random_normal([32])),\n",
    "    'bc2': tf.Variable(tf.random_normal([64])),\n",
    "    'bd1': tf.Variable(tf.random_normal([1024])),\n",
    "    'out': tf.Variable(tf.random_normal([num_classes]))\n",
    "}\n",
    "\n",
    "# Construct model，构建模型\n",
    "logits = conv_net(X, weights, biases, keep_prob)\n",
    "prediction = tf.nn.softmax(logits)\n",
    "\n",
    "# Define loss and optimizer，定义误差函数与优化器\n",
    "loss_op = tf.reduce_mean(tf.nn.softmax_cross_entropy_with_logits(\n",
    "    logits=logits, labels=Y))\n",
    "optimizer = tf.train.AdamOptimizer(learning_rate=learning_rate)\n",
    "train_op = optimizer.minimize(loss_op)\n",
    "\n",
    "\n",
    "# Evaluate model，评估模型\n",
    "correct_pred = tf.equal(tf.argmax(prediction, 1), tf.argmax(Y, 1))\n",
    "accuracy = tf.reduce_mean(tf.cast(correct_pred, tf.float32))\n",
    "\n",
    "# Initialize the variables (i.e. assign their default value)，初始化图结构所有变量\n",
    "init = tf.global_variables_initializer()"
   ]
  },
  {
   "cell_type": "code",
   "execution_count": 5,
   "metadata": {},
   "outputs": [
    {
     "name": "stdout",
     "output_type": "stream",
     "text": [
      "Step 1, Minibatch Loss= 64175.3125, Training Accuracy= 0.180\n",
      "Step 10, Minibatch Loss= 28869.9082, Training Accuracy= 0.266\n",
      "Step 20, Minibatch Loss= 10108.7051, Training Accuracy= 0.516\n",
      "Step 30, Minibatch Loss= 7731.6328, Training Accuracy= 0.656\n",
      "Step 40, Minibatch Loss= 4582.8574, Training Accuracy= 0.820\n",
      "Step 50, Minibatch Loss= 3500.7571, Training Accuracy= 0.805\n",
      "Step 60, Minibatch Loss= 3050.8481, Training Accuracy= 0.836\n",
      "Step 70, Minibatch Loss= 2787.5034, Training Accuracy= 0.812\n",
      "Step 80, Minibatch Loss= 1045.9927, Training Accuracy= 0.906\n",
      "Step 90, Minibatch Loss= 1167.5303, Training Accuracy= 0.945\n",
      "Step 100, Minibatch Loss= 1347.3311, Training Accuracy= 0.922\n",
      "Step 110, Minibatch Loss= 1026.8754, Training Accuracy= 0.898\n",
      "Step 120, Minibatch Loss= 2586.6125, Training Accuracy= 0.859\n",
      "Step 130, Minibatch Loss= 2593.2949, Training Accuracy= 0.875\n",
      "Step 140, Minibatch Loss= 2354.5393, Training Accuracy= 0.883\n",
      "Step 150, Minibatch Loss= 1043.1744, Training Accuracy= 0.914\n",
      "Step 160, Minibatch Loss= 1277.1353, Training Accuracy= 0.906\n",
      "Step 170, Minibatch Loss= 1730.3420, Training Accuracy= 0.867\n",
      "Step 180, Minibatch Loss= 1397.1199, Training Accuracy= 0.914\n",
      "Step 190, Minibatch Loss= 1310.1053, Training Accuracy= 0.906\n",
      "Step 200, Minibatch Loss= 904.2699, Training Accuracy= 0.906\n",
      "Step 210, Minibatch Loss= 427.7617, Training Accuracy= 0.945\n",
      "Step 220, Minibatch Loss= 1449.7485, Training Accuracy= 0.930\n",
      "Step 230, Minibatch Loss= 631.2623, Training Accuracy= 0.945\n",
      "Step 240, Minibatch Loss= 929.2561, Training Accuracy= 0.945\n",
      "Step 250, Minibatch Loss= 1182.4005, Training Accuracy= 0.945\n",
      "Step 260, Minibatch Loss= 1630.4517, Training Accuracy= 0.898\n",
      "Step 270, Minibatch Loss= 815.9264, Training Accuracy= 0.914\n",
      "Step 280, Minibatch Loss= 1161.0125, Training Accuracy= 0.898\n",
      "Step 290, Minibatch Loss= 1091.8500, Training Accuracy= 0.938\n",
      "Step 300, Minibatch Loss= 1453.5624, Training Accuracy= 0.922\n",
      "Step 310, Minibatch Loss= 1250.5930, Training Accuracy= 0.938\n",
      "Step 320, Minibatch Loss= 290.1758, Training Accuracy= 0.977\n",
      "Step 330, Minibatch Loss= 941.4947, Training Accuracy= 0.914\n",
      "Step 340, Minibatch Loss= 472.5195, Training Accuracy= 0.945\n",
      "Step 350, Minibatch Loss= 885.3875, Training Accuracy= 0.938\n",
      "Step 360, Minibatch Loss= 492.4177, Training Accuracy= 0.945\n",
      "Step 370, Minibatch Loss= 896.6633, Training Accuracy= 0.938\n",
      "Step 380, Minibatch Loss= 1034.5071, Training Accuracy= 0.938\n",
      "Step 390, Minibatch Loss= 338.0309, Training Accuracy= 0.945\n",
      "Step 400, Minibatch Loss= 1423.2449, Training Accuracy= 0.961\n",
      "Step 410, Minibatch Loss= 988.9479, Training Accuracy= 0.953\n",
      "Step 420, Minibatch Loss= 803.1452, Training Accuracy= 0.945\n",
      "Step 430, Minibatch Loss= 986.7172, Training Accuracy= 0.938\n",
      "Step 440, Minibatch Loss= 706.6301, Training Accuracy= 0.945\n",
      "Step 450, Minibatch Loss= 467.6349, Training Accuracy= 0.961\n",
      "Step 460, Minibatch Loss= 480.4138, Training Accuracy= 0.969\n",
      "Step 470, Minibatch Loss= 1003.8784, Training Accuracy= 0.914\n",
      "Step 480, Minibatch Loss= 730.0715, Training Accuracy= 0.953\n",
      "Step 490, Minibatch Loss= 200.1433, Training Accuracy= 0.961\n",
      "Step 500, Minibatch Loss= 912.7183, Training Accuracy= 0.938\n",
      "Optimization Finished!\n",
      "Testing Accuracy: 0.96875\n"
     ]
    }
   ],
   "source": [
    "# Start training，开始训练\n",
    "with tf.Session() as sess:\n",
    "\n",
    "    # Run the initializer，初始化\n",
    "    sess.run(init)\n",
    "\n",
    "    for step in range(1, num_steps+1):\n",
    "        batch_x, batch_y = mnist.train.next_batch(batch_size)\n",
    "        # Run optimization op (backprop)，优化\n",
    "        sess.run(train_op, feed_dict={X: batch_x, Y: batch_y, keep_prob: dropout})\n",
    "        if step % display_step == 0 or step == 1:\n",
    "            # Calculate batch loss and accuracy\n",
    "            loss, acc = sess.run([loss_op, accuracy], feed_dict={X: batch_x,\n",
    "                                                                 Y: batch_y,\n",
    "                                                                 keep_prob: 1.0})\n",
    "            print(\"Step \" + str(step) + \", Minibatch Loss= \" + \\\n",
    "                  \"{:.4f}\".format(loss) + \", Training Accuracy= \" + \\\n",
    "                  \"{:.3f}\".format(acc))\n",
    "\n",
    "    print(\"Optimization Finished!\")\n",
    "\n",
    "    # Calculate accuracy for 256 MNIST test images，以每256个测试图像为例，\n",
    "    print(\"Testing Accuracy:\", \\\n",
    "        sess.run(accuracy, feed_dict={X: mnist.test.images[:256],\n",
    "                                      Y: mnist.test.labels[:256],\n",
    "                                      keep_prob: 1.0}))\n"
   ]
  },
  {
   "cell_type": "code",
   "execution_count": null,
   "metadata": {},
   "outputs": [],
   "source": []
  }
 ],
 "metadata": {
  "kernelspec": {
   "display_name": "Python 3",
   "language": "python",
   "name": "python3"
  },
  "language_info": {
   "codemirror_mode": {
    "name": "ipython",
    "version": 3
   },
   "file_extension": ".py",
   "mimetype": "text/x-python",
   "name": "python",
   "nbconvert_exporter": "python",
   "pygments_lexer": "ipython3",
   "version": "3.6.5"
  }
 },
 "nbformat": 4,
 "nbformat_minor": 1
}
