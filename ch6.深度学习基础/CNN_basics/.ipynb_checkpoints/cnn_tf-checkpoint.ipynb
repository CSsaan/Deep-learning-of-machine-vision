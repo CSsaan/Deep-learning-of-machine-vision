{
 "cells": [
  {
   "cell_type": "markdown",
   "metadata": {},
   "source": [
    "# TensorFlow卷积神经网络(CNN)示例 - 高级API\n",
    "### Convolutional Neural Network Example - tf.layers API"
   ]
  },
  {
   "cell_type": "markdown",
   "metadata": {},
   "source": [
    "## CNN网络结构图示\n",
    "\n",
    "![CNN](http://personal.ie.cuhk.edu.hk/~ccloy/project_target_code/images/fig3.png)\n",
    "\n",
    "## MNIST数据库\n",
    "\n",
    "![MNIST Dataset](http://neuralnetworksanddeeplearning.com/images/mnist_100_digits.png)\n",
    "\n",
    "More info: http://yann.lecun.com/exdb/mnist/"
   ]
  },
  {
   "cell_type": "code",
   "execution_count": 1,
   "metadata": {},
   "outputs": [
    {
     "name": "stderr",
     "output_type": "stream",
     "text": [
      "/anaconda3/lib/python3.6/site-packages/h5py/__init__.py:36: FutureWarning: Conversion of the second argument of issubdtype from `float` to `np.floating` is deprecated. In future, it will be treated as `np.float64 == np.dtype(float).type`.\n",
      "  from ._conv import register_converters as _register_converters\n"
     ]
    },
    {
     "name": "stdout",
     "output_type": "stream",
     "text": [
      "WARNING:tensorflow:From <ipython-input-1-9715b9f9f056>:5: read_data_sets (from tensorflow.contrib.learn.python.learn.datasets.mnist) is deprecated and will be removed in a future version.\n",
      "Instructions for updating:\n",
      "Please use alternatives such as official/mnist/dataset.py from tensorflow/models.\n",
      "WARNING:tensorflow:From /anaconda3/lib/python3.6/site-packages/tensorflow/contrib/learn/python/learn/datasets/mnist.py:260: maybe_download (from tensorflow.contrib.learn.python.learn.datasets.base) is deprecated and will be removed in a future version.\n",
      "Instructions for updating:\n",
      "Please write your own downloading logic.\n",
      "WARNING:tensorflow:From /anaconda3/lib/python3.6/site-packages/tensorflow/contrib/learn/python/learn/datasets/mnist.py:262: extract_images (from tensorflow.contrib.learn.python.learn.datasets.mnist) is deprecated and will be removed in a future version.\n",
      "Instructions for updating:\n",
      "Please use tf.data to implement this functionality.\n",
      "Extracting /others/data/train-images-idx3-ubyte.gz\n",
      "WARNING:tensorflow:From /anaconda3/lib/python3.6/site-packages/tensorflow/contrib/learn/python/learn/datasets/mnist.py:267: extract_labels (from tensorflow.contrib.learn.python.learn.datasets.mnist) is deprecated and will be removed in a future version.\n",
      "Instructions for updating:\n",
      "Please use tf.data to implement this functionality.\n",
      "Extracting /others/data/train-labels-idx1-ubyte.gz\n",
      "Extracting /others/data/t10k-images-idx3-ubyte.gz\n",
      "Extracting /others/data/t10k-labels-idx1-ubyte.gz\n",
      "WARNING:tensorflow:From /anaconda3/lib/python3.6/site-packages/tensorflow/contrib/learn/python/learn/datasets/mnist.py:290: DataSet.__init__ (from tensorflow.contrib.learn.python.learn.datasets.mnist) is deprecated and will be removed in a future version.\n",
      "Instructions for updating:\n",
      "Please use alternatives such as official/mnist/dataset.py from tensorflow/models.\n"
     ]
    }
   ],
   "source": [
    "from __future__ import division, print_function, absolute_import\n",
    "\n",
    "# Import MNIST data，MNIST数据集导入\n",
    "from tensorflow.examples.tutorials.mnist import input_data\n",
    "mnist = input_data.read_data_sets(\"../MNIST_data/\", one_hot=False)\n",
    "\n",
    "import tensorflow as tf\n",
    "import matplotlib.pyplot as plt\n",
    "import numpy as np"
   ]
  },
  {
   "cell_type": "code",
   "execution_count": 2,
   "metadata": {},
   "outputs": [],
   "source": [
    "# Training Parameters，超参数\n",
    "learning_rate = 0.001 #学习率\n",
    "num_steps = 2000 # 训练步数\n",
    "batch_size = 128 # 训练数据批的大小\n",
    "\n",
    "# Network Parameters，网络参数\n",
    "num_input = 784 # MNIST数据输入 (img shape: 28*28)\n",
    "num_classes = 10 # MNIST所有类别 (0-9 digits)\n",
    "dropout = 0.75 # Dropout, probability to keep units = (1-p)，保留神经元相应的概率为(1-p)=(1-0.75)=0.25"
   ]
  },
  {
   "cell_type": "code",
   "execution_count": 3,
   "metadata": {},
   "outputs": [],
   "source": [
    "# Create the neural network，创建深度神经网络\n",
    "def conv_net(x_dict, n_classes, dropout, reuse, is_training):\n",
    "    \n",
    "    # Define a scope for reusing the variables，确定命名空间\n",
    "    with tf.variable_scope('ConvNet', reuse=reuse):\n",
    "        # TF Estimator类型的输入为像素\n",
    "        x = x_dict['images']\n",
    "\n",
    "        # MNIST数据输入格式为一位向量，包含784个特征 (28*28像素)\n",
    "        # 用reshape函数改变形状以匹配图像的尺寸 [高 x 宽 x 通道数]\n",
    "        # 输入张量的尺度为四维: [(每一)批数据的数目, 高，宽，通道数]\n",
    "        x = tf.reshape(x, shape=[-1, 28, 28, 1])\n",
    "\n",
    "        # 卷积层，32个卷积核，尺寸为5x5\n",
    "        conv1 = tf.layers.conv2d(x, 32, 5, activation=tf.nn.relu)\n",
    "        # 最大池化层，步长为2，无需学习任何参量\n",
    "        conv1 = tf.layers.max_pooling2d(conv1, 2, 2)\n",
    "\n",
    "        # 卷积层，64个卷积核，尺寸为3x3\n",
    "        conv2 = tf.layers.conv2d(conv1, 64, 3, activation=tf.nn.relu)\n",
    "        # 最大池化层，步长为2，无需学习任何参量\n",
    "        conv2 = tf.layers.max_pooling2d(conv2, 2, 2)\n",
    "\n",
    "        # 展开特征为一维向量，以输入全连接层\n",
    "        fc1 = tf.contrib.layers.flatten(conv2)\n",
    "\n",
    "        # 全连接层\n",
    "        fc1 = tf.layers.dense(fc1, 1024)\n",
    "        # 应用Dropout (训练时打开，测试时关闭)\n",
    "        fc1 = tf.layers.dropout(fc1, rate=dropout, training=is_training)\n",
    "\n",
    "        # 输出层，预测类别\n",
    "        out = tf.layers.dense(fc1, n_classes)\n",
    "\n",
    "    return out"
   ]
  },
  {
   "cell_type": "code",
   "execution_count": 4,
   "metadata": {},
   "outputs": [],
   "source": [
    "# 确定模型功能 (参照TF Estimator模版)\n",
    "def model_fn(features, labels, mode):\n",
    "    \n",
    "    # 构建神经网络\n",
    "    # 因为dropout在训练与测试时的特性不一，我们此处为训练和测试过程创建两个独立但共享权值的计算图\n",
    "    logits_train = conv_net(features, num_classes, dropout, reuse=False, is_training=True)\n",
    "    logits_test = conv_net(features, num_classes, dropout, reuse=True, is_training=False)\n",
    "    \n",
    "    # 预测\n",
    "    pred_classes = tf.argmax(logits_test, axis=1)\n",
    "    pred_probas = tf.nn.softmax(logits_test)\n",
    "    \n",
    "    if mode == tf.estimator.ModeKeys.PREDICT:\n",
    "        return tf.estimator.EstimatorSpec(mode, predictions=pred_classes) \n",
    "        \n",
    "    # 确定误差函数与优化器\n",
    "    loss_op = tf.reduce_mean(tf.nn.sparse_softmax_cross_entropy_with_logits(\n",
    "        logits=logits_train, labels=tf.cast(labels, dtype=tf.int32)))\n",
    "    optimizer = tf.train.AdamOptimizer(learning_rate=learning_rate)\n",
    "    train_op = optimizer.minimize(loss_op, global_step=tf.train.get_global_step())\n",
    "    \n",
    "    # 评估模型精确度\n",
    "    acc_op = tf.metrics.accuracy(labels=labels, predictions=pred_classes)\n",
    "    \n",
    "    # TF Estimators需要返回EstimatorSpec\n",
    "    estim_specs = tf.estimator.EstimatorSpec(\n",
    "      mode=mode,\n",
    "      predictions=pred_classes,\n",
    "      loss=loss_op,\n",
    "      train_op=train_op,\n",
    "      eval_metric_ops={'accuracy': acc_op})\n",
    "\n",
    "    return estim_specs"
   ]
  },
  {
   "cell_type": "code",
   "execution_count": 5,
   "metadata": {},
   "outputs": [
    {
     "name": "stdout",
     "output_type": "stream",
     "text": [
      "INFO:tensorflow:Using default config.\n",
      "WARNING:tensorflow:Using temporary folder as model directory: /var/folders/yj/jjdsk8r516jcphw203m15mvc0000gq/T/tmprlf9xyua\n",
      "INFO:tensorflow:Using config: {'_model_dir': '/var/folders/yj/jjdsk8r516jcphw203m15mvc0000gq/T/tmprlf9xyua', '_tf_random_seed': None, '_save_summary_steps': 100, '_save_checkpoints_steps': None, '_save_checkpoints_secs': 600, '_session_config': allow_soft_placement: true\n",
      "graph_options {\n",
      "  rewrite_options {\n",
      "    meta_optimizer_iterations: ONE\n",
      "  }\n",
      "}\n",
      ", '_keep_checkpoint_max': 5, '_keep_checkpoint_every_n_hours': 10000, '_log_step_count_steps': 100, '_train_distribute': None, '_device_fn': None, '_protocol': None, '_eval_distribute': None, '_experimental_distribute': None, '_service': None, '_cluster_spec': <tensorflow.python.training.server_lib.ClusterSpec object at 0x1c34e7cba8>, '_task_type': 'worker', '_task_id': 0, '_global_id_in_cluster': 0, '_master': '', '_evaluation_master': '', '_is_chief': True, '_num_ps_replicas': 0, '_num_worker_replicas': 1}\n"
     ]
    }
   ],
   "source": [
    "# 构建Estimator\n",
    "model = tf.estimator.Estimator(model_fn)"
   ]
  },
  {
   "cell_type": "code",
   "execution_count": 6,
   "metadata": {},
   "outputs": [
    {
     "name": "stdout",
     "output_type": "stream",
     "text": [
      "WARNING:tensorflow:From /anaconda3/lib/python3.6/site-packages/tensorflow/python/estimator/inputs/queues/feeding_queue_runner.py:62: QueueRunner.__init__ (from tensorflow.python.training.queue_runner_impl) is deprecated and will be removed in a future version.\n",
      "Instructions for updating:\n",
      "To construct input pipelines, use the `tf.data` module.\n",
      "WARNING:tensorflow:From /anaconda3/lib/python3.6/site-packages/tensorflow/python/estimator/inputs/queues/feeding_functions.py:500: add_queue_runner (from tensorflow.python.training.queue_runner_impl) is deprecated and will be removed in a future version.\n",
      "Instructions for updating:\n",
      "To construct input pipelines, use the `tf.data` module.\n",
      "INFO:tensorflow:Calling model_fn.\n",
      "INFO:tensorflow:Done calling model_fn.\n",
      "INFO:tensorflow:Create CheckpointSaverHook.\n",
      "INFO:tensorflow:Graph was finalized.\n",
      "INFO:tensorflow:Running local_init_op.\n",
      "INFO:tensorflow:Done running local_init_op.\n",
      "WARNING:tensorflow:From /anaconda3/lib/python3.6/site-packages/tensorflow/python/training/monitored_session.py:804: start_queue_runners (from tensorflow.python.training.queue_runner_impl) is deprecated and will be removed in a future version.\n",
      "Instructions for updating:\n",
      "To construct input pipelines, use the `tf.data` module.\n",
      "INFO:tensorflow:Saving checkpoints for 0 into /var/folders/yj/jjdsk8r516jcphw203m15mvc0000gq/T/tmprlf9xyua/model.ckpt.\n",
      "INFO:tensorflow:loss = 2.334721, step = 1\n",
      "INFO:tensorflow:global_step/sec: 16.0902\n",
      "INFO:tensorflow:loss = 0.38039374, step = 101 (6.214 sec)\n",
      "INFO:tensorflow:global_step/sec: 15.8347\n",
      "INFO:tensorflow:loss = 0.122618176, step = 201 (6.315 sec)\n",
      "INFO:tensorflow:global_step/sec: 16.6063\n",
      "INFO:tensorflow:loss = 0.06452601, step = 301 (6.022 sec)\n",
      "INFO:tensorflow:global_step/sec: 16.6953\n",
      "INFO:tensorflow:loss = 0.11015202, step = 401 (5.990 sec)\n",
      "INFO:tensorflow:global_step/sec: 16.3627\n",
      "INFO:tensorflow:loss = 0.07143931, step = 501 (6.112 sec)\n",
      "INFO:tensorflow:global_step/sec: 16.6234\n",
      "INFO:tensorflow:loss = 0.099668786, step = 601 (6.015 sec)\n",
      "INFO:tensorflow:global_step/sec: 16.3974\n",
      "INFO:tensorflow:loss = 0.0401003, step = 701 (6.098 sec)\n",
      "INFO:tensorflow:global_step/sec: 16.7806\n",
      "INFO:tensorflow:loss = 0.018410303, step = 801 (5.959 sec)\n",
      "INFO:tensorflow:global_step/sec: 16.728\n",
      "INFO:tensorflow:loss = 0.011722576, step = 901 (5.978 sec)\n",
      "INFO:tensorflow:global_step/sec: 16.6464\n",
      "INFO:tensorflow:loss = 0.026269577, step = 1001 (6.008 sec)\n",
      "INFO:tensorflow:global_step/sec: 16.6095\n",
      "INFO:tensorflow:loss = 0.01326962, step = 1101 (6.020 sec)\n",
      "INFO:tensorflow:global_step/sec: 16.6932\n",
      "INFO:tensorflow:loss = 0.020685937, step = 1201 (5.990 sec)\n",
      "INFO:tensorflow:global_step/sec: 16.5397\n",
      "INFO:tensorflow:loss = 0.009442759, step = 1301 (6.046 sec)\n",
      "INFO:tensorflow:global_step/sec: 16.5952\n",
      "INFO:tensorflow:loss = 0.02288898, step = 1401 (6.026 sec)\n",
      "INFO:tensorflow:global_step/sec: 15.5094\n",
      "INFO:tensorflow:loss = 0.07007641, step = 1501 (6.448 sec)\n",
      "INFO:tensorflow:global_step/sec: 16.2795\n",
      "INFO:tensorflow:loss = 0.021897443, step = 1601 (6.143 sec)\n",
      "INFO:tensorflow:global_step/sec: 15.3152\n",
      "INFO:tensorflow:loss = 0.022929942, step = 1701 (6.529 sec)\n",
      "INFO:tensorflow:global_step/sec: 15.7323\n",
      "INFO:tensorflow:loss = 0.049225796, step = 1801 (6.356 sec)\n",
      "INFO:tensorflow:global_step/sec: 16.1802\n",
      "INFO:tensorflow:loss = 0.024367569, step = 1901 (6.180 sec)\n",
      "INFO:tensorflow:Saving checkpoints for 2000 into /var/folders/yj/jjdsk8r516jcphw203m15mvc0000gq/T/tmprlf9xyua/model.ckpt.\n",
      "INFO:tensorflow:Loss for final step: 0.14148438.\n"
     ]
    },
    {
     "data": {
      "text/plain": [
       "<tensorflow.python.estimator.estimator.Estimator at 0x1c34e7c9e8>"
      ]
     },
     "execution_count": 6,
     "metadata": {},
     "output_type": "execute_result"
    }
   ],
   "source": [
    "# 确定训练输入函数\n",
    "input_fn = tf.estimator.inputs.numpy_input_fn(\n",
    "    x={'images': mnist.train.images}, y=mnist.train.labels,\n",
    "    batch_size=batch_size, num_epochs=None, shuffle=True)\n",
    "# 开始训练模型\n",
    "model.train(input_fn, steps=num_steps)"
   ]
  },
  {
   "cell_type": "code",
   "execution_count": 7,
   "metadata": {},
   "outputs": [
    {
     "name": "stdout",
     "output_type": "stream",
     "text": [
      "INFO:tensorflow:Calling model_fn.\n",
      "INFO:tensorflow:Done calling model_fn.\n",
      "INFO:tensorflow:Starting evaluation at 2018-10-25-08:12:02\n",
      "INFO:tensorflow:Graph was finalized.\n",
      "INFO:tensorflow:Restoring parameters from /var/folders/yj/jjdsk8r516jcphw203m15mvc0000gq/T/tmprlf9xyua/model.ckpt-2000\n",
      "INFO:tensorflow:Running local_init_op.\n",
      "INFO:tensorflow:Done running local_init_op.\n",
      "INFO:tensorflow:Finished evaluation at 2018-10-25-08:12:04\n",
      "INFO:tensorflow:Saving dict for global step 2000: accuracy = 0.9899, global_step = 2000, loss = 0.03668095\n",
      "INFO:tensorflow:Saving 'checkpoint_path' summary for global step 2000: /var/folders/yj/jjdsk8r516jcphw203m15mvc0000gq/T/tmprlf9xyua/model.ckpt-2000\n"
     ]
    },
    {
     "data": {
      "text/plain": [
       "{'accuracy': 0.9899, 'loss': 0.03668095, 'global_step': 2000}"
      ]
     },
     "execution_count": 7,
     "metadata": {},
     "output_type": "execute_result"
    }
   ],
   "source": [
    "# 评判模型\n",
    "# 确定评判用输入函数\n",
    "input_fn = tf.estimator.inputs.numpy_input_fn(\n",
    "    x={'images': mnist.test.images}, y=mnist.test.labels,\n",
    "    batch_size=batch_size, shuffle=False)\n",
    "model.evaluate(input_fn)"
   ]
  },
  {
   "cell_type": "code",
   "execution_count": 8,
   "metadata": {},
   "outputs": [
    {
     "name": "stdout",
     "output_type": "stream",
     "text": [
      "INFO:tensorflow:Calling model_fn.\n",
      "INFO:tensorflow:Done calling model_fn.\n",
      "INFO:tensorflow:Graph was finalized.\n",
      "INFO:tensorflow:Restoring parameters from /var/folders/yj/jjdsk8r516jcphw203m15mvc0000gq/T/tmprlf9xyua/model.ckpt-2000\n",
      "INFO:tensorflow:Running local_init_op.\n",
      "INFO:tensorflow:Done running local_init_op.\n"
     ]
    },
    {
     "data": {
      "image/png": "[encoded data removed]",
      "text/plain": [
       "<Figure size 432x288 with 1 Axes>"
      ]
     },
     "metadata": {},
     "output_type": "display_data"
    },
    {
     "name": "stdout",
     "output_type": "stream",
     "text": [
      "Model prediction: 7\n"
     ]
    },
    {
     "data": {
      "image/png": "[encoded data removed]",
      "text/plain": [
       "<Figure size 432x288 with 1 Axes>"
      ]
     },
     "metadata": {},
     "output_type": "display_data"
    },
    {
     "name": "stdout",
     "output_type": "stream",
     "text": [
      "Model prediction: 2\n"
     ]
    },
    {
     "data": {
      "image/png": "[encoded data removed]",
      "text/plain": [
       "<Figure size 432x288 with 1 Axes>"
      ]
     },
     "metadata": {},
     "output_type": "display_data"
    },
    {
     "name": "stdout",
     "output_type": "stream",
     "text": [
      "Model prediction: 1\n"
     ]
    },
    {
     "data": {
      "image/png": "[encoded data removed]",
      "text/plain": [
       "<Figure size 432x288 with 1 Axes>"
      ]
     },
     "metadata": {},
     "output_type": "display_data"
    },
    {
     "name": "stdout",
     "output_type": "stream",
     "text": [
      "Model prediction: 0\n"
     ]
    },
    {
     "data": {
      "image/png": "[encoded data removed]",
      "text/plain": [
       "<Figure size 432x288 with 1 Axes>"
      ]
     },
     "metadata": {},
     "output_type": "display_data"
    },
    {
     "name": "stdout",
     "output_type": "stream",
     "text": [
      "Model prediction: 4\n"
     ]
    },
    {
     "data": {
      "image/png": "[encoded data removed]",
      "text/plain": [
       "<Figure size 432x288 with 1 Axes>"
      ]
     },
     "metadata": {},
     "output_type": "display_data"
    },
    {
     "name": "stdout",
     "output_type": "stream",
     "text": [
      "Model prediction: 1\n"
     ]
    }
   ],
   "source": [
    "# 预测单个图像\n",
    "n_images = 6\n",
    "# 从数据集得到测试图像\n",
    "test_images = mnist.test.images[:n_images]\n",
    "# 准备输入数据\n",
    "input_fn = tf.estimator.inputs.numpy_input_fn(\n",
    "    x={'images': test_images}, shuffle=False)\n",
    "# 用训练好的模型预测图片类别\n",
    "preds = list(model.predict(input_fn))\n",
    "\n",
    "# 可视化显示\n",
    "for i in range(n_images):\n",
    "    plt.imshow(np.reshape(test_images[i], [28, 28]), cmap='gray')\n",
    "    plt.show()\n",
    "    print(\"Model prediction:\", preds[i])"
   ]
  },
  {
   "cell_type": "code",
   "execution_count": null,
   "metadata": {},
   "outputs": [],
   "source": []
  }
 ],
 "metadata": {
  "anaconda-cloud": {},
  "kernelspec": {
   "display_name": "Python 3",
   "language": "python",
   "name": "python3"
  },
  "language_info": {
   "codemirror_mode": {
    "name": "ipython",
    "version": 3
   },
   "file_extension": ".py",
   "mimetype": "text/x-python",
   "name": "python",
   "nbconvert_exporter": "python",
   "pygments_lexer": "ipython3",
   "version": "3.6.5"
  }
 },
 "nbformat": 4,
 "nbformat_minor": 2
}
